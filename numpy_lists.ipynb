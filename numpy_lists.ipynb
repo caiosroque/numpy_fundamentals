{
 "cells": [
  {
   "cell_type": "markdown",
   "id": "ffba949d",
   "metadata": {},
   "source": [
    "Numpy Lists"
   ]
  },
  {
   "cell_type": "code",
   "execution_count": null,
   "id": "01cdac29",
   "metadata": {},
   "outputs": [],
   "source": [
    "import numpy as np"
   ]
  },
  {
   "cell_type": "code",
   "execution_count": null,
   "id": "e13ddfc5",
   "metadata": {},
   "outputs": [],
   "source": [
    "np.__version__"
   ]
  },
  {
   "cell_type": "markdown",
   "id": "a84d180f",
   "metadata": {},
   "source": [
    "Fixed Size"
   ]
  },
  {
   "cell_type": "code",
   "execution_count": null,
   "id": "96f53cf6",
   "metadata": {},
   "outputs": [],
   "source": [
    "list_a = [1, 2, 3, 4]\n",
    "type(list_a)"
   ]
  },
  {
   "cell_type": "code",
   "execution_count": null,
   "id": "5331caf3",
   "metadata": {},
   "outputs": [],
   "source": [
    "print(id(list_a))"
   ]
  },
  {
   "cell_type": "code",
   "execution_count": null,
   "id": "2aa85786",
   "metadata": {},
   "outputs": [],
   "source": [
    "list_a.append(5)\n",
    "print(list_a)\n",
    "print(id(list_a))"
   ]
  },
  {
   "cell_type": "code",
   "execution_count": null,
   "id": "fa11dbe0",
   "metadata": {},
   "outputs": [],
   "source": [
    "array_a = np.array([1, 2, 3, 4])\n",
    "type(array_a)"
   ]
  },
  {
   "cell_type": "code",
   "execution_count": null,
   "id": "a309d7ba",
   "metadata": {},
   "outputs": [],
   "source": [
    "print(id(array_a))"
   ]
  },
  {
   "cell_type": "code",
   "execution_count": null,
   "id": "9956b421",
   "metadata": {},
   "outputs": [],
   "source": [
    "array_a = np.append(array_a, [5])\n",
    "print(array_a)\n",
    "print(id(array_a))"
   ]
  },
  {
   "cell_type": "markdown",
   "id": "f1ebb345",
   "metadata": {},
   "source": [
    "\n",
    "homogeneous"
   ]
  },
  {
   "cell_type": "code",
   "execution_count": null,
   "id": "ad73fb19",
   "metadata": {},
   "outputs": [],
   "source": [
    "list_a = [1, 2.4, 'a', True, 5]\n",
    "print(list_a)"
   ]
  },
  {
   "cell_type": "code",
   "execution_count": null,
   "id": "97084748",
   "metadata": {},
   "outputs": [],
   "source": [
    "type(list_a)"
   ]
  },
  {
   "cell_type": "code",
   "execution_count": null,
   "id": "9af4ee7d",
   "metadata": {},
   "outputs": [],
   "source": [
    "for i in list_a:\n",
    "    print(type(i), i)"
   ]
  },
  {
   "cell_type": "code",
   "execution_count": null,
   "id": "c60d0740",
   "metadata": {},
   "outputs": [],
   "source": [
    "array_a = np.array(list_a)\n",
    "type(array_a)"
   ]
  },
  {
   "cell_type": "code",
   "execution_count": null,
   "id": "d95a693c",
   "metadata": {},
   "outputs": [],
   "source": [
    "print(array_a)"
   ]
  },
  {
   "cell_type": "code",
   "execution_count": null,
   "id": "fbd25238",
   "metadata": {},
   "outputs": [],
   "source": [
    "for i in array_a:\n",
    "    print(type(i), i)"
   ]
  },
  {
   "cell_type": "code",
   "execution_count": null,
   "id": "624c1491",
   "metadata": {},
   "outputs": [],
   "source": [
    "array_a.dtype"
   ]
  },
  {
   "cell_type": "markdown",
   "id": "716eef60",
   "metadata": {},
   "source": [
    "vectorization"
   ]
  },
  {
   "cell_type": "code",
   "execution_count": null,
   "id": "7ad88682",
   "metadata": {},
   "outputs": [],
   "source": [
    "list_a = [1, 2, 3, 4]\n",
    "list_b = [5, 6, 7, 8]\n",
    "\n",
    "list_c = list_a + list_b\n",
    "print(list_c)"
   ]
  },
  {
   "cell_type": "code",
   "execution_count": null,
   "id": "08c44702",
   "metadata": {},
   "outputs": [],
   "source": [
    "list_c = []\n",
    "\n",
    "for i in range(4):\n",
    "    #print(i)\n",
    "    list_c.append(list_a[i] + list_b[i])\n",
    "print(list_c)"
   ]
  },
  {
   "cell_type": "code",
   "execution_count": null,
   "id": "fbe2601b",
   "metadata": {},
   "outputs": [],
   "source": [
    "array_a = np.array(list_a)\n",
    "array_b = np.array(list_b)\n",
    "\n",
    "array_c = array_a + array_b\n",
    "print(array_c)"
   ]
  },
  {
   "cell_type": "code",
   "execution_count": null,
   "id": "2faa44c9",
   "metadata": {},
   "outputs": [],
   "source": [
    "array_a - array_b"
   ]
  },
  {
   "cell_type": "code",
   "execution_count": null,
   "id": "e7472109",
   "metadata": {},
   "outputs": [],
   "source": [
    "array_a * array_b"
   ]
  },
  {
   "cell_type": "code",
   "execution_count": null,
   "id": "0075e74c",
   "metadata": {},
   "outputs": [],
   "source": [
    "array_a / array_b"
   ]
  },
  {
   "cell_type": "code",
   "execution_count": null,
   "id": "f9fed119",
   "metadata": {},
   "outputs": [],
   "source": [
    "array_a % array_b"
   ]
  },
  {
   "cell_type": "code",
   "execution_count": null,
   "id": "3fa03d6d",
   "metadata": {},
   "outputs": [],
   "source": [
    "array_a ** array_b"
   ]
  },
  {
   "cell_type": "markdown",
   "id": "2a5c5b28",
   "metadata": {},
   "source": [
    "Broadcasting"
   ]
  },
  {
   "cell_type": "code",
   "execution_count": null,
   "id": "1da33a22",
   "metadata": {},
   "outputs": [],
   "source": [
    "list_a = [1, 2, 3, 4]\n",
    "list_a + 5"
   ]
  },
  {
   "cell_type": "code",
   "execution_count": null,
   "id": "e928ec65",
   "metadata": {},
   "outputs": [],
   "source": [
    "list_b = []\n",
    "\n",
    "for i in range(4):\n",
    "    list_b.append(list_a[i] + 5)\n",
    "print(list_b)"
   ]
  },
  {
   "cell_type": "code",
   "execution_count": null,
   "id": "c3030978",
   "metadata": {},
   "outputs": [],
   "source": [
    "list_b = []\n",
    "\n",
    "for i in list_a:\n",
    "    list_b.append(i + 5)\n",
    "print(list_b)"
   ]
  },
  {
   "cell_type": "code",
   "execution_count": null,
   "id": "4c32b951",
   "metadata": {},
   "outputs": [],
   "source": [
    "array_a = np.array(list_a)\n",
    "array_a + 5"
   ]
  },
  {
   "cell_type": "code",
   "execution_count": null,
   "id": "f504b30d",
   "metadata": {},
   "outputs": [],
   "source": [
    "array_b = np.array([[5],\n",
    "                    [10]\n",
    "                    ])"
   ]
  },
  {
   "cell_type": "code",
   "execution_count": null,
   "id": "4b1f3e77",
   "metadata": {},
   "outputs": [],
   "source": [
    "array_b"
   ]
  },
  {
   "cell_type": "code",
   "execution_count": null,
   "id": "6ab48d17",
   "metadata": {},
   "outputs": [],
   "source": [
    "array_b.shape"
   ]
  },
  {
   "cell_type": "code",
   "execution_count": null,
   "id": "4108b4c2",
   "metadata": {},
   "outputs": [],
   "source": [
    "array_a + array_b"
   ]
  },
  {
   "cell_type": "code",
   "execution_count": null,
   "id": "1cb66c76",
   "metadata": {},
   "outputs": [],
   "source": [
    "array_b = np.array([[5, 6],\n",
    "                    [10, 11]])"
   ]
  },
  {
   "cell_type": "code",
   "execution_count": null,
   "id": "f59ef7b8",
   "metadata": {},
   "outputs": [],
   "source": [
    "array_b.shape"
   ]
  },
  {
   "cell_type": "code",
   "execution_count": null,
   "id": "a1a393f0",
   "metadata": {},
   "outputs": [],
   "source": [
    "array_a + array_b"
   ]
  }
 ],
 "metadata": {
  "kernelspec": {
   "display_name": "venv",
   "language": "python",
   "name": "python3"
  },
  "language_info": {
   "codemirror_mode": {
    "name": "ipython",
    "version": 3
   },
   "file_extension": ".py",
   "mimetype": "text/x-python",
   "name": "python",
   "nbconvert_exporter": "python",
   "pygments_lexer": "ipython3",
   "version": "3.13.1"
  }
 },
 "nbformat": 4,
 "nbformat_minor": 5
}
