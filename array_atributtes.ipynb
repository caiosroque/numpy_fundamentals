{
 "cells": [
  {
   "cell_type": "markdown",
   "id": "07f963dd",
   "metadata": {},
   "source": [
    "Array Atributtes"
   ]
  },
  {
   "cell_type": "code",
   "execution_count": null,
   "id": "52316bbf",
   "metadata": {},
   "outputs": [],
   "source": [
    "import numpy as np"
   ]
  },
  {
   "cell_type": "markdown",
   "id": "42657801",
   "metadata": {},
   "source": [
    "Size"
   ]
  },
  {
   "cell_type": "code",
   "execution_count": null,
   "id": "2c0efba9",
   "metadata": {},
   "outputs": [],
   "source": [
    "array_from_list = np.array([1, 2, 3])\n",
    "\n",
    "array_2d = np.array([[1, 2 , 3],\n",
    "                     [4, 5,  6],\n",
    "                     [7, 8,  9],\n",
    "                     [10, 11, 12]])\n",
    "\n",
    "array_3d = np.array([[[1, 2, 3],\n",
    "                      [4, 5, 6],\n",
    "                      [7, 8, 9],\n",
    "                      [10, 11, 12]], \n",
    "                     \n",
    "                     \n",
    "                     [[13, 14, 15],\n",
    "                      [16, 17, 18],\n",
    "                      [19, 20, 21],\n",
    "                      [22, 23, 24]]])"
   ]
  },
  {
   "cell_type": "code",
   "execution_count": null,
   "id": "13477d69",
   "metadata": {},
   "outputs": [],
   "source": [
    "array_from_list.size"
   ]
  },
  {
   "cell_type": "code",
   "execution_count": null,
   "id": "7e325c3e",
   "metadata": {},
   "outputs": [],
   "source": [
    "array_2d.size"
   ]
  },
  {
   "cell_type": "code",
   "execution_count": 10,
   "id": "6899bddf",
   "metadata": {},
   "outputs": [
    {
     "data": {
      "text/plain": [
       "24"
      ]
     },
     "execution_count": 10,
     "metadata": {},
     "output_type": "execute_result"
    }
   ],
   "source": [
    "array_3d.size"
   ]
  },
  {
   "cell_type": "markdown",
   "id": "4f6d9208",
   "metadata": {},
   "source": [
    "ndim"
   ]
  },
  {
   "cell_type": "code",
   "execution_count": 11,
   "id": "63ee0754",
   "metadata": {},
   "outputs": [
    {
     "data": {
      "text/plain": [
       "1"
      ]
     },
     "execution_count": 11,
     "metadata": {},
     "output_type": "execute_result"
    }
   ],
   "source": [
    "array_from_list.ndim"
   ]
  },
  {
   "cell_type": "code",
   "execution_count": 12,
   "id": "1c2fa006",
   "metadata": {},
   "outputs": [
    {
     "data": {
      "text/plain": [
       "2"
      ]
     },
     "execution_count": 12,
     "metadata": {},
     "output_type": "execute_result"
    }
   ],
   "source": [
    "array_2d.ndim"
   ]
  },
  {
   "cell_type": "code",
   "execution_count": 13,
   "id": "c690b44b",
   "metadata": {},
   "outputs": [
    {
     "data": {
      "text/plain": [
       "3"
      ]
     },
     "execution_count": 13,
     "metadata": {},
     "output_type": "execute_result"
    }
   ],
   "source": [
    "array_3d.ndim"
   ]
  },
  {
   "cell_type": "markdown",
   "id": "a4089052",
   "metadata": {},
   "source": [
    "Shape"
   ]
  },
  {
   "cell_type": "code",
   "execution_count": 14,
   "id": "5351d665",
   "metadata": {},
   "outputs": [
    {
     "data": {
      "text/plain": [
       "(3,)"
      ]
     },
     "execution_count": 14,
     "metadata": {},
     "output_type": "execute_result"
    }
   ],
   "source": [
    "array_from_list.shape"
   ]
  },
  {
   "cell_type": "code",
   "execution_count": 15,
   "id": "ddbd4c94",
   "metadata": {},
   "outputs": [
    {
     "data": {
      "text/plain": [
       "(4, 3)"
      ]
     },
     "execution_count": 15,
     "metadata": {},
     "output_type": "execute_result"
    }
   ],
   "source": [
    "array_2d.shape"
   ]
  },
  {
   "cell_type": "code",
   "execution_count": 16,
   "id": "da2592c1",
   "metadata": {},
   "outputs": [
    {
     "data": {
      "text/plain": [
       "(2, 4, 3)"
      ]
     },
     "execution_count": 16,
     "metadata": {},
     "output_type": "execute_result"
    }
   ],
   "source": [
    "array_3d.shape"
   ]
  },
  {
   "cell_type": "markdown",
   "id": "903984f5",
   "metadata": {},
   "source": [
    "Itemsize"
   ]
  },
  {
   "cell_type": "code",
   "execution_count": 17,
   "id": "c889b68f",
   "metadata": {},
   "outputs": [
    {
     "data": {
      "text/plain": [
       "8"
      ]
     },
     "execution_count": 17,
     "metadata": {},
     "output_type": "execute_result"
    }
   ],
   "source": [
    "array_from_list.itemsize"
   ]
  },
  {
   "cell_type": "code",
   "execution_count": 18,
   "id": "e265ea17",
   "metadata": {},
   "outputs": [
    {
     "data": {
      "text/plain": [
       "8"
      ]
     },
     "execution_count": 18,
     "metadata": {},
     "output_type": "execute_result"
    }
   ],
   "source": [
    "array_2d.itemsize"
   ]
  },
  {
   "cell_type": "code",
   "execution_count": 19,
   "id": "d79b48c2",
   "metadata": {},
   "outputs": [
    {
     "data": {
      "text/plain": [
       "8"
      ]
     },
     "execution_count": 19,
     "metadata": {},
     "output_type": "execute_result"
    }
   ],
   "source": [
    "array_3d.itemsize"
   ]
  },
  {
   "cell_type": "markdown",
   "id": "89daf718",
   "metadata": {},
   "source": [
    "nbytes"
   ]
  },
  {
   "cell_type": "code",
   "execution_count": 23,
   "id": "1e32db03",
   "metadata": {},
   "outputs": [
    {
     "data": {
      "text/plain": [
       "(24, 24)"
      ]
     },
     "execution_count": 23,
     "metadata": {},
     "output_type": "execute_result"
    }
   ],
   "source": [
    "array_from_list.nbytes, 3 * 8"
   ]
  },
  {
   "cell_type": "code",
   "execution_count": 24,
   "id": "705711b5",
   "metadata": {},
   "outputs": [
    {
     "data": {
      "text/plain": [
       "(96, 96)"
      ]
     },
     "execution_count": 24,
     "metadata": {},
     "output_type": "execute_result"
    }
   ],
   "source": [
    "array_2d.nbytes, 12 * 8"
   ]
  },
  {
   "cell_type": "code",
   "execution_count": 28,
   "id": "16f078ef",
   "metadata": {},
   "outputs": [
    {
     "data": {
      "text/plain": [
       "(192, 192, 192)"
      ]
     },
     "execution_count": 28,
     "metadata": {},
     "output_type": "execute_result"
    }
   ],
   "source": [
    "array_3d.nbytes, 24 * 8, array_3d.size * array_3d.itemsize"
   ]
  },
  {
   "cell_type": "markdown",
   "id": "72aaa106",
   "metadata": {},
   "source": [
    "dtype"
   ]
  },
  {
   "cell_type": "code",
   "execution_count": 29,
   "id": "da3ea370",
   "metadata": {},
   "outputs": [
    {
     "data": {
      "text/plain": [
       "dtype('int64')"
      ]
     },
     "execution_count": 29,
     "metadata": {},
     "output_type": "execute_result"
    }
   ],
   "source": [
    "array_from_list.dtype"
   ]
  },
  {
   "cell_type": "code",
   "execution_count": 30,
   "id": "90375589",
   "metadata": {},
   "outputs": [
    {
     "data": {
      "text/plain": [
       "dtype('int64')"
      ]
     },
     "execution_count": 30,
     "metadata": {},
     "output_type": "execute_result"
    }
   ],
   "source": [
    "array_2d.dtype"
   ]
  },
  {
   "cell_type": "code",
   "execution_count": null,
   "id": "61a44b6b",
   "metadata": {},
   "outputs": [
    {
     "data": {
      "text/plain": [
       "dtype('int64')"
      ]
     },
     "execution_count": 31,
     "metadata": {},
     "output_type": "execute_result"
    },
    {
     "ename": "",
     "evalue": "",
     "output_type": "error",
     "traceback": [
      "\u001b[1;31mThe Kernel crashed while executing code in the current cell or a previous cell. \n",
      "\u001b[1;31mPlease review the code in the cell(s) to identify a possible cause of the failure. \n",
      "\u001b[1;31mClick <a href='https://aka.ms/vscodeJupyterKernelCrash'>here</a> for more info. \n",
      "\u001b[1;31mView Jupyter <a href='command:jupyter.viewOutput'>log</a> for further details."
     ]
    }
   ],
   "source": [
    "array_3d.dtype"
   ]
  }
 ],
 "metadata": {
  "kernelspec": {
   "display_name": "venv",
   "language": "python",
   "name": "python3"
  },
  "language_info": {
   "codemirror_mode": {
    "name": "ipython",
    "version": 3
   },
   "file_extension": ".py",
   "mimetype": "text/x-python",
   "name": "python",
   "nbconvert_exporter": "python",
   "pygments_lexer": "ipython3",
   "version": "3.13.1"
  }
 },
 "nbformat": 4,
 "nbformat_minor": 5
}
