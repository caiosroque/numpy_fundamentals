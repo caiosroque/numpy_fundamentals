{
 "cells": [
  {
   "cell_type": "markdown",
   "id": "4d53c2d2",
   "metadata": {},
   "source": [
    "Array from data"
   ]
  },
  {
   "cell_type": "code",
   "execution_count": 8,
   "id": "9f2450c3",
   "metadata": {},
   "outputs": [],
   "source": [
    "import numpy as np"
   ]
  },
  {
   "cell_type": "code",
   "execution_count": 9,
   "id": "3b0756ce",
   "metadata": {},
   "outputs": [
    {
     "data": {
      "text/plain": [
       "array([1, 2, 3])"
      ]
     },
     "execution_count": 9,
     "metadata": {},
     "output_type": "execute_result"
    }
   ],
   "source": [
    "array_from_list = np.array([1, 2, 3])\n",
    "array_from_list"
   ]
  },
  {
   "cell_type": "code",
   "execution_count": 4,
   "id": "4720a485",
   "metadata": {},
   "outputs": [
    {
     "data": {
      "text/plain": [
       "list"
      ]
     },
     "execution_count": 4,
     "metadata": {},
     "output_type": "execute_result"
    }
   ],
   "source": [
    "list_a = [1, 2 ,3]\n",
    "type(list_a)"
   ]
  },
  {
   "cell_type": "code",
   "execution_count": 6,
   "id": "82dfcb74",
   "metadata": {},
   "outputs": [
    {
     "data": {
      "text/plain": [
       "numpy.ndarray"
      ]
     },
     "execution_count": 6,
     "metadata": {},
     "output_type": "execute_result"
    }
   ],
   "source": [
    "array_from_list = np.array(list_a)\n",
    "array_from_list\n",
    "type(array_from_list)"
   ]
  },
  {
   "cell_type": "code",
   "execution_count": 7,
   "id": "628c4657",
   "metadata": {},
   "outputs": [
    {
     "data": {
      "text/plain": [
       "tuple"
      ]
     },
     "execution_count": 7,
     "metadata": {},
     "output_type": "execute_result"
    }
   ],
   "source": [
    "tuple_a = (1, 2, 3)\n",
    "type(tuple_a)"
   ]
  },
  {
   "cell_type": "code",
   "execution_count": 10,
   "id": "0b3860c2",
   "metadata": {},
   "outputs": [
    {
     "name": "stdout",
     "output_type": "stream",
     "text": [
      "[1 2 3]\n",
      "<class 'numpy.ndarray'>\n"
     ]
    }
   ],
   "source": [
    "array_from_tuple = np.array(tuple_a)\n",
    "print(array_from_tuple)\n",
    "print(type(array_from_tuple))"
   ]
  },
  {
   "cell_type": "code",
   "execution_count": 11,
   "id": "4c226be8",
   "metadata": {},
   "outputs": [
    {
     "data": {
      "text/plain": [
       "array([6, 7, 8])"
      ]
     },
     "execution_count": 11,
     "metadata": {},
     "output_type": "execute_result"
    }
   ],
   "source": [
    "array_from_list + 5"
   ]
  },
  {
   "cell_type": "code",
   "execution_count": 12,
   "id": "805c80e6",
   "metadata": {},
   "outputs": [
    {
     "data": {
      "text/plain": [
       "array([6, 7, 8])"
      ]
     },
     "execution_count": 12,
     "metadata": {},
     "output_type": "execute_result"
    }
   ],
   "source": [
    "array_from_tuple + 5"
   ]
  },
  {
   "cell_type": "code",
   "execution_count": 13,
   "id": "30112a55",
   "metadata": {},
   "outputs": [
    {
     "name": "stdout",
     "output_type": "stream",
     "text": [
      "{1, 2, 3, 4}\n",
      "<class 'set'>\n"
     ]
    }
   ],
   "source": [
    "set_a = {1, 2, 3, 4}\n",
    "print(set_a)\n",
    "print(type(set_a))"
   ]
  },
  {
   "cell_type": "code",
   "execution_count": 14,
   "id": "2a174dfa",
   "metadata": {},
   "outputs": [
    {
     "data": {
      "text/plain": [
       "array({1, 2, 3, 4}, dtype=object)"
      ]
     },
     "execution_count": 14,
     "metadata": {},
     "output_type": "execute_result"
    }
   ],
   "source": [
    "array_from_set = np.array(set_a)\n",
    "array_from_set"
   ]
  },
  {
   "cell_type": "code",
   "execution_count": 15,
   "id": "c5d64fbe",
   "metadata": {},
   "outputs": [
    {
     "name": "stdout",
     "output_type": "stream",
     "text": [
      "{1: 'a', 2: 'b'}\n",
      "<class 'dict'>\n"
     ]
    }
   ],
   "source": [
    "dict_a = {1: 'a', 2:'b'}\n",
    "print(dict_a)\n",
    "print(type(dict_a))"
   ]
  },
  {
   "cell_type": "code",
   "execution_count": 16,
   "id": "dd422025",
   "metadata": {},
   "outputs": [
    {
     "data": {
      "text/plain": [
       "array({1: 'a', 2: 'b'}, dtype=object)"
      ]
     },
     "execution_count": 16,
     "metadata": {},
     "output_type": "execute_result"
    }
   ],
   "source": [
    "array_from_dict = np.array(dict_a)\n",
    "array_from_dict"
   ]
  }
 ],
 "metadata": {
  "kernelspec": {
   "display_name": "venv",
   "language": "python",
   "name": "python3"
  },
  "language_info": {
   "codemirror_mode": {
    "name": "ipython",
    "version": 3
   },
   "file_extension": ".py",
   "mimetype": "text/x-python",
   "name": "python",
   "nbconvert_exporter": "python",
   "pygments_lexer": "ipython3",
   "version": "3.13.1"
  }
 },
 "nbformat": 4,
 "nbformat_minor": 5
}
